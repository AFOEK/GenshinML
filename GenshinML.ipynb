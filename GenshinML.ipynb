{
 "cells": [
  {
   "cell_type": "code",
   "execution_count": 1,
   "metadata": {},
   "outputs": [],
   "source": [
    "import pandas as pd\n",
    "import sklearn as sk"
   ]
  },
  {
   "cell_type": "code",
   "execution_count": 2,
   "metadata": {},
   "outputs": [],
   "source": [
    "df_chara = pd.read_csv('CSV_Data/GenshinCharatersClean.csv')\n",
    "df_arti = pd.read_csv('CSV_Data/GenshinArtifactsClean.csv')\n",
    "df_weapon = pd.read_csv('CSV_Data/GenshinWeaponsClean.csv')"
   ]
  },
  {
   "cell_type": "code",
   "execution_count": 3,
   "metadata": {},
   "outputs": [
    {
     "data": {
      "application/vnd.microsoft.datawrangler.viewer.v0+json": {
       "columns": [
        {
         "name": "index",
         "rawType": "int64",
         "type": "integer"
        },
        {
         "name": "name",
         "rawType": "object",
         "type": "string"
        },
        {
         "name": "2-piece_bonus",
         "rawType": "object",
         "type": "string"
        },
        {
         "name": "4-piece_bonus",
         "rawType": "object",
         "type": "string"
        },
        {
         "name": "1-piece_bonus",
         "rawType": "object",
         "type": "unknown"
        }
       ],
       "conversionMethod": "pd.DataFrame",
       "ref": "bd1af9f1-fd14-47c3-96b9-a9ed08e92526",
       "rows": [
        [
         "0",
         "Adventurer",
         "Max HP increased by 1,000.",
         "Opening chest regenerates 30% Max HP over 5s.",
         null
        ],
        [
         "1",
         "Archaic Petra",
         "Gain a 15% Geo DMG Bonus.",
         "Upon obtaining an Elemental Shard created through a Crystallize Reaction, all party members gain a 35% DMG Bonus for that particular element for 10s. Only one form of Elemental DMG Bonus can be gained in this manner at any one time.",
         null
        ],
        [
         "2",
         "Berserker",
         "CRIT Rate +12%",
         "When HP is below 70%, CRIT Rate increases by an additional 24%.",
         null
        ],
        [
         "3",
         "Blizzard Strayer",
         "Cryo DMG Bonus +15%",
         "When a character attacks an enemy affected by Cryo, their CRIT Rate is increased by 20%. If the enemy is Frozen, CRIT Rate is increased by an additional 20%.",
         null
        ],
        [
         "4",
         "Bloodstained Chivalry",
         "Physical DMG +25%",
         "After defeating an opponent, increases Charged Attack DMG by 50%, and reduces its Stamina cost to 0 for 10s.",
         null
        ]
       ],
       "shape": {
        "columns": 4,
        "rows": 5
       }
      },
      "text/html": [
       "<div>\n",
       "<style scoped>\n",
       "    .dataframe tbody tr th:only-of-type {\n",
       "        vertical-align: middle;\n",
       "    }\n",
       "\n",
       "    .dataframe tbody tr th {\n",
       "        vertical-align: top;\n",
       "    }\n",
       "\n",
       "    .dataframe thead th {\n",
       "        text-align: right;\n",
       "    }\n",
       "</style>\n",
       "<table border=\"1\" class=\"dataframe\">\n",
       "  <thead>\n",
       "    <tr style=\"text-align: right;\">\n",
       "      <th></th>\n",
       "      <th>name</th>\n",
       "      <th>2-piece_bonus</th>\n",
       "      <th>4-piece_bonus</th>\n",
       "      <th>1-piece_bonus</th>\n",
       "    </tr>\n",
       "  </thead>\n",
       "  <tbody>\n",
       "    <tr>\n",
       "      <th>0</th>\n",
       "      <td>Adventurer</td>\n",
       "      <td>Max HP increased by 1,000.</td>\n",
       "      <td>Opening chest regenerates 30% Max HP over 5s.</td>\n",
       "      <td>NaN</td>\n",
       "    </tr>\n",
       "    <tr>\n",
       "      <th>1</th>\n",
       "      <td>Archaic Petra</td>\n",
       "      <td>Gain a 15% Geo DMG Bonus.</td>\n",
       "      <td>Upon obtaining an Elemental Shard created thro...</td>\n",
       "      <td>NaN</td>\n",
       "    </tr>\n",
       "    <tr>\n",
       "      <th>2</th>\n",
       "      <td>Berserker</td>\n",
       "      <td>CRIT Rate +12%</td>\n",
       "      <td>When HP is below 70%, CRIT Rate increases by a...</td>\n",
       "      <td>NaN</td>\n",
       "    </tr>\n",
       "    <tr>\n",
       "      <th>3</th>\n",
       "      <td>Blizzard Strayer</td>\n",
       "      <td>Cryo DMG Bonus +15%</td>\n",
       "      <td>When a character attacks an enemy affected by ...</td>\n",
       "      <td>NaN</td>\n",
       "    </tr>\n",
       "    <tr>\n",
       "      <th>4</th>\n",
       "      <td>Bloodstained Chivalry</td>\n",
       "      <td>Physical DMG +25%</td>\n",
       "      <td>After defeating an opponent, increases Charged...</td>\n",
       "      <td>NaN</td>\n",
       "    </tr>\n",
       "  </tbody>\n",
       "</table>\n",
       "</div>"
      ],
      "text/plain": [
       "                    name               2-piece_bonus  \\\n",
       "0             Adventurer  Max HP increased by 1,000.   \n",
       "1          Archaic Petra   Gain a 15% Geo DMG Bonus.   \n",
       "2              Berserker              CRIT Rate +12%   \n",
       "3       Blizzard Strayer         Cryo DMG Bonus +15%   \n",
       "4  Bloodstained Chivalry           Physical DMG +25%   \n",
       "\n",
       "                                       4-piece_bonus 1-piece_bonus  \n",
       "0      Opening chest regenerates 30% Max HP over 5s.           NaN  \n",
       "1  Upon obtaining an Elemental Shard created thro...           NaN  \n",
       "2  When HP is below 70%, CRIT Rate increases by a...           NaN  \n",
       "3  When a character attacks an enemy affected by ...           NaN  \n",
       "4  After defeating an opponent, increases Charged...           NaN  "
      ]
     },
     "execution_count": 3,
     "metadata": {},
     "output_type": "execute_result"
    }
   ],
   "source": [
    "df_arti.head(5)"
   ]
  },
  {
   "cell_type": "code",
   "execution_count": 4,
   "metadata": {},
   "outputs": [
    {
     "data": {
      "application/vnd.microsoft.datawrangler.viewer.v0+json": {
       "columns": [
        {
         "name": "index",
         "rawType": "int64",
         "type": "integer"
        },
        {
         "name": "name",
         "rawType": "object",
         "type": "string"
        },
        {
         "name": "vision",
         "rawType": "object",
         "type": "string"
        },
        {
         "name": "weapon",
         "rawType": "object",
         "type": "string"
        },
        {
         "name": "rarity",
         "rawType": "int64",
         "type": "integer"
        },
        {
         "name": "weapon_type",
         "rawType": "object",
         "type": "string"
        },
        {
         "name": "ATK",
         "rawType": "bool",
         "type": "boolean"
        },
        {
         "name": "Geo DMG Bonus",
         "rawType": "bool",
         "type": "boolean"
        },
        {
         "name": "Dendro DMG Bonus",
         "rawType": "bool",
         "type": "boolean"
        },
        {
         "name": "Cryo DMG Bonus",
         "rawType": "bool",
         "type": "boolean"
        },
        {
         "name": "CRIT Rate",
         "rawType": "bool",
         "type": "boolean"
        },
        {
         "name": "CRIT DMG",
         "rawType": "bool",
         "type": "boolean"
        },
        {
         "name": "HP",
         "rawType": "bool",
         "type": "boolean"
        },
        {
         "name": "Electro DMG Bonus",
         "rawType": "bool",
         "type": "boolean"
        },
        {
         "name": "Energy Recharge",
         "rawType": "bool",
         "type": "boolean"
        },
        {
         "name": "Elemental Mastery",
         "rawType": "bool",
         "type": "boolean"
        },
        {
         "name": "Healing Bonus",
         "rawType": "bool",
         "type": "boolean"
        },
        {
         "name": "Pyro DMG Bonus",
         "rawType": "bool",
         "type": "boolean"
        },
        {
         "name": "Anemo DMG Bonus",
         "rawType": "bool",
         "type": "boolean"
        },
        {
         "name": "DEF",
         "rawType": "bool",
         "type": "boolean"
        },
        {
         "name": "Physical DMG Bonus",
         "rawType": "bool",
         "type": "boolean"
        },
        {
         "name": "Hydro DMG Bonus",
         "rawType": "bool",
         "type": "boolean"
        }
       ],
       "conversionMethod": "pd.DataFrame",
       "ref": "9ad9e5d1-a23d-4ae6-9198-d1719700855b",
       "rows": [
        [
         "0",
         "Albedo",
         "Geo",
         "Sword",
         "5",
         "SWORD",
         "False",
         "True",
         "False",
         "False",
         "False",
         "False",
         "False",
         "False",
         "False",
         "False",
         "False",
         "False",
         "False",
         "False",
         "False",
         "False"
        ],
        [
         "1",
         "Alhaitham",
         "Dendro",
         "Sword",
         "5",
         "SWORD",
         "False",
         "False",
         "True",
         "False",
         "False",
         "False",
         "False",
         "False",
         "False",
         "False",
         "False",
         "False",
         "False",
         "False",
         "False",
         "False"
        ],
        [
         "2",
         "Aloy",
         "Cryo",
         "Bow",
         "5",
         "BOW",
         "False",
         "False",
         "False",
         "True",
         "False",
         "False",
         "False",
         "False",
         "False",
         "False",
         "False",
         "False",
         "False",
         "False",
         "False",
         "False"
        ],
        [
         "3",
         "Amber",
         "Pyro",
         "Bow",
         "4",
         "BOW",
         "True",
         "False",
         "False",
         "False",
         "False",
         "False",
         "False",
         "False",
         "False",
         "False",
         "False",
         "False",
         "False",
         "False",
         "False",
         "False"
        ],
        [
         "4",
         "Arataki Itto",
         "Geo",
         "Claymore",
         "5",
         "CLAYMORE",
         "False",
         "False",
         "False",
         "False",
         "True",
         "False",
         "False",
         "False",
         "False",
         "False",
         "False",
         "False",
         "False",
         "False",
         "False",
         "False"
        ]
       ],
       "shape": {
        "columns": 21,
        "rows": 5
       }
      },
      "text/html": [
       "<div>\n",
       "<style scoped>\n",
       "    .dataframe tbody tr th:only-of-type {\n",
       "        vertical-align: middle;\n",
       "    }\n",
       "\n",
       "    .dataframe tbody tr th {\n",
       "        vertical-align: top;\n",
       "    }\n",
       "\n",
       "    .dataframe thead th {\n",
       "        text-align: right;\n",
       "    }\n",
       "</style>\n",
       "<table border=\"1\" class=\"dataframe\">\n",
       "  <thead>\n",
       "    <tr style=\"text-align: right;\">\n",
       "      <th></th>\n",
       "      <th>name</th>\n",
       "      <th>vision</th>\n",
       "      <th>weapon</th>\n",
       "      <th>rarity</th>\n",
       "      <th>weapon_type</th>\n",
       "      <th>ATK</th>\n",
       "      <th>Geo DMG Bonus</th>\n",
       "      <th>Dendro DMG Bonus</th>\n",
       "      <th>Cryo DMG Bonus</th>\n",
       "      <th>CRIT Rate</th>\n",
       "      <th>...</th>\n",
       "      <th>HP</th>\n",
       "      <th>Electro DMG Bonus</th>\n",
       "      <th>Energy Recharge</th>\n",
       "      <th>Elemental Mastery</th>\n",
       "      <th>Healing Bonus</th>\n",
       "      <th>Pyro DMG Bonus</th>\n",
       "      <th>Anemo DMG Bonus</th>\n",
       "      <th>DEF</th>\n",
       "      <th>Physical DMG Bonus</th>\n",
       "      <th>Hydro DMG Bonus</th>\n",
       "    </tr>\n",
       "  </thead>\n",
       "  <tbody>\n",
       "    <tr>\n",
       "      <th>0</th>\n",
       "      <td>Albedo</td>\n",
       "      <td>Geo</td>\n",
       "      <td>Sword</td>\n",
       "      <td>5</td>\n",
       "      <td>SWORD</td>\n",
       "      <td>False</td>\n",
       "      <td>True</td>\n",
       "      <td>False</td>\n",
       "      <td>False</td>\n",
       "      <td>False</td>\n",
       "      <td>...</td>\n",
       "      <td>False</td>\n",
       "      <td>False</td>\n",
       "      <td>False</td>\n",
       "      <td>False</td>\n",
       "      <td>False</td>\n",
       "      <td>False</td>\n",
       "      <td>False</td>\n",
       "      <td>False</td>\n",
       "      <td>False</td>\n",
       "      <td>False</td>\n",
       "    </tr>\n",
       "    <tr>\n",
       "      <th>1</th>\n",
       "      <td>Alhaitham</td>\n",
       "      <td>Dendro</td>\n",
       "      <td>Sword</td>\n",
       "      <td>5</td>\n",
       "      <td>SWORD</td>\n",
       "      <td>False</td>\n",
       "      <td>False</td>\n",
       "      <td>True</td>\n",
       "      <td>False</td>\n",
       "      <td>False</td>\n",
       "      <td>...</td>\n",
       "      <td>False</td>\n",
       "      <td>False</td>\n",
       "      <td>False</td>\n",
       "      <td>False</td>\n",
       "      <td>False</td>\n",
       "      <td>False</td>\n",
       "      <td>False</td>\n",
       "      <td>False</td>\n",
       "      <td>False</td>\n",
       "      <td>False</td>\n",
       "    </tr>\n",
       "    <tr>\n",
       "      <th>2</th>\n",
       "      <td>Aloy</td>\n",
       "      <td>Cryo</td>\n",
       "      <td>Bow</td>\n",
       "      <td>5</td>\n",
       "      <td>BOW</td>\n",
       "      <td>False</td>\n",
       "      <td>False</td>\n",
       "      <td>False</td>\n",
       "      <td>True</td>\n",
       "      <td>False</td>\n",
       "      <td>...</td>\n",
       "      <td>False</td>\n",
       "      <td>False</td>\n",
       "      <td>False</td>\n",
       "      <td>False</td>\n",
       "      <td>False</td>\n",
       "      <td>False</td>\n",
       "      <td>False</td>\n",
       "      <td>False</td>\n",
       "      <td>False</td>\n",
       "      <td>False</td>\n",
       "    </tr>\n",
       "    <tr>\n",
       "      <th>3</th>\n",
       "      <td>Amber</td>\n",
       "      <td>Pyro</td>\n",
       "      <td>Bow</td>\n",
       "      <td>4</td>\n",
       "      <td>BOW</td>\n",
       "      <td>True</td>\n",
       "      <td>False</td>\n",
       "      <td>False</td>\n",
       "      <td>False</td>\n",
       "      <td>False</td>\n",
       "      <td>...</td>\n",
       "      <td>False</td>\n",
       "      <td>False</td>\n",
       "      <td>False</td>\n",
       "      <td>False</td>\n",
       "      <td>False</td>\n",
       "      <td>False</td>\n",
       "      <td>False</td>\n",
       "      <td>False</td>\n",
       "      <td>False</td>\n",
       "      <td>False</td>\n",
       "    </tr>\n",
       "    <tr>\n",
       "      <th>4</th>\n",
       "      <td>Arataki Itto</td>\n",
       "      <td>Geo</td>\n",
       "      <td>Claymore</td>\n",
       "      <td>5</td>\n",
       "      <td>CLAYMORE</td>\n",
       "      <td>False</td>\n",
       "      <td>False</td>\n",
       "      <td>False</td>\n",
       "      <td>False</td>\n",
       "      <td>True</td>\n",
       "      <td>...</td>\n",
       "      <td>False</td>\n",
       "      <td>False</td>\n",
       "      <td>False</td>\n",
       "      <td>False</td>\n",
       "      <td>False</td>\n",
       "      <td>False</td>\n",
       "      <td>False</td>\n",
       "      <td>False</td>\n",
       "      <td>False</td>\n",
       "      <td>False</td>\n",
       "    </tr>\n",
       "  </tbody>\n",
       "</table>\n",
       "<p>5 rows × 21 columns</p>\n",
       "</div>"
      ],
      "text/plain": [
       "           name  vision    weapon  rarity weapon_type    ATK  Geo DMG Bonus  \\\n",
       "0        Albedo     Geo     Sword       5       SWORD  False           True   \n",
       "1     Alhaitham  Dendro     Sword       5       SWORD  False          False   \n",
       "2          Aloy    Cryo       Bow       5         BOW  False          False   \n",
       "3         Amber    Pyro       Bow       4         BOW   True          False   \n",
       "4  Arataki Itto     Geo  Claymore       5    CLAYMORE  False          False   \n",
       "\n",
       "   Dendro DMG Bonus  Cryo DMG Bonus  CRIT Rate  ...     HP  Electro DMG Bonus  \\\n",
       "0             False           False      False  ...  False              False   \n",
       "1              True           False      False  ...  False              False   \n",
       "2             False            True      False  ...  False              False   \n",
       "3             False           False      False  ...  False              False   \n",
       "4             False           False       True  ...  False              False   \n",
       "\n",
       "   Energy Recharge  Elemental Mastery  Healing Bonus  Pyro DMG Bonus  \\\n",
       "0            False              False          False           False   \n",
       "1            False              False          False           False   \n",
       "2            False              False          False           False   \n",
       "3            False              False          False           False   \n",
       "4            False              False          False           False   \n",
       "\n",
       "   Anemo DMG Bonus    DEF  Physical DMG Bonus  Hydro DMG Bonus  \n",
       "0            False  False               False            False  \n",
       "1            False  False               False            False  \n",
       "2            False  False               False            False  \n",
       "3            False  False               False            False  \n",
       "4            False  False               False            False  \n",
       "\n",
       "[5 rows x 21 columns]"
      ]
     },
     "execution_count": 4,
     "metadata": {},
     "output_type": "execute_result"
    }
   ],
   "source": [
    "df_chara.head(5)"
   ]
  },
  {
   "cell_type": "code",
   "execution_count": 5,
   "metadata": {},
   "outputs": [
    {
     "data": {
      "application/vnd.microsoft.datawrangler.viewer.v0+json": {
       "columns": [
        {
         "name": "index",
         "rawType": "int64",
         "type": "integer"
        },
        {
         "name": "name",
         "rawType": "object",
         "type": "string"
        },
        {
         "name": "type",
         "rawType": "object",
         "type": "string"
        },
        {
         "name": "rarity",
         "rawType": "int64",
         "type": "integer"
        },
        {
         "name": "baseAttack",
         "rawType": "int64",
         "type": "integer"
        },
        {
         "name": "subStat",
         "rawType": "object",
         "type": "string"
        },
        {
         "name": "passiveDesc",
         "rawType": "object",
         "type": "string"
        }
       ],
       "conversionMethod": "pd.DataFrame",
       "ref": "158d0b8c-474e-4783-8ebe-b91fb88e9a7a",
       "rows": [
        [
         "0",
         "A Thousand Floating Dreams",
         "Catalyst",
         "5",
         "44",
         "Elemental Mastery",
         "Party members other than the equipping character will provide the equipping character with buffs based on whether their Elemental Type is the same as the latter or not. If their Elemental Types are the same, increase Elemental Mastery by 32. If not, increase the equipping character's DMG Bonus from their Elemental Type by 10%. Each of the aforementioned effects can have up to 3 stacks. Additionally, all nearby party members other than the equipping character will have their Elemental Mastery increased by 40. Multiple such effects from multiple such weapons can stack."
        ],
        [
         "1",
         "Akuoumaru",
         "Claymore",
         "4",
         "42",
         "ATK",
         "For every point of the entire party's combined maximum Energy capacity, the Elemental Burst DMG of the character equipping this weapon is increased by 0.12/0.15/0.18/0.21/0.24%. A maximum of 40/50/60/70/80% increased Elemental Burst DMG can be achieved this way."
        ],
        [
         "2",
         "Alley Hunter",
         "Bow",
         "4",
         "41",
         "Attack",
         "Every 4s a character is on the field, their ATK increases by 4/5/6/7/8% and their CRIT DMG increases by 4/5/6/7/8%. This effect has a maximum of 5 stacks and will not be reset if the character leaves the field, but will be cleared when the character takes DMG."
        ],
        [
         "3",
         "Amber Catalyst",
         "Catalyst",
         "3",
         "40",
         "Elemental Mastery",
         "Normal Attack hits increase all Elemental DMG by 6/7.5/9/10.5/12% for 6s. Max 2 stacks."
        ],
        [
         "4",
         "Amenoma Kageuchi",
         "Sword",
         "4",
         "41",
         "ATK",
         "After casting an Elemental Skill, gain 1 Succession Seed. This effect can be triggered once every 5s. The Succession Seed lasts for 30s. Up to 3 Succession Seeds may exist simultaneously. After using an Elemental Burst, all Succession Seeds are consumed and after 2s, the character regenerates 6/7.5/9/10.5/12 Energy for each seed consumed."
        ]
       ],
       "shape": {
        "columns": 6,
        "rows": 5
       }
      },
      "text/html": [
       "<div>\n",
       "<style scoped>\n",
       "    .dataframe tbody tr th:only-of-type {\n",
       "        vertical-align: middle;\n",
       "    }\n",
       "\n",
       "    .dataframe tbody tr th {\n",
       "        vertical-align: top;\n",
       "    }\n",
       "\n",
       "    .dataframe thead th {\n",
       "        text-align: right;\n",
       "    }\n",
       "</style>\n",
       "<table border=\"1\" class=\"dataframe\">\n",
       "  <thead>\n",
       "    <tr style=\"text-align: right;\">\n",
       "      <th></th>\n",
       "      <th>name</th>\n",
       "      <th>type</th>\n",
       "      <th>rarity</th>\n",
       "      <th>baseAttack</th>\n",
       "      <th>subStat</th>\n",
       "      <th>passiveDesc</th>\n",
       "    </tr>\n",
       "  </thead>\n",
       "  <tbody>\n",
       "    <tr>\n",
       "      <th>0</th>\n",
       "      <td>A Thousand Floating Dreams</td>\n",
       "      <td>Catalyst</td>\n",
       "      <td>5</td>\n",
       "      <td>44</td>\n",
       "      <td>Elemental Mastery</td>\n",
       "      <td>Party members other than the equipping charact...</td>\n",
       "    </tr>\n",
       "    <tr>\n",
       "      <th>1</th>\n",
       "      <td>Akuoumaru</td>\n",
       "      <td>Claymore</td>\n",
       "      <td>4</td>\n",
       "      <td>42</td>\n",
       "      <td>ATK</td>\n",
       "      <td>For every point of the entire party's combined...</td>\n",
       "    </tr>\n",
       "    <tr>\n",
       "      <th>2</th>\n",
       "      <td>Alley Hunter</td>\n",
       "      <td>Bow</td>\n",
       "      <td>4</td>\n",
       "      <td>41</td>\n",
       "      <td>Attack</td>\n",
       "      <td>Every 4s a character is on the field, their AT...</td>\n",
       "    </tr>\n",
       "    <tr>\n",
       "      <th>3</th>\n",
       "      <td>Amber Catalyst</td>\n",
       "      <td>Catalyst</td>\n",
       "      <td>3</td>\n",
       "      <td>40</td>\n",
       "      <td>Elemental Mastery</td>\n",
       "      <td>Normal Attack hits increase all Elemental DMG ...</td>\n",
       "    </tr>\n",
       "    <tr>\n",
       "      <th>4</th>\n",
       "      <td>Amenoma Kageuchi</td>\n",
       "      <td>Sword</td>\n",
       "      <td>4</td>\n",
       "      <td>41</td>\n",
       "      <td>ATK</td>\n",
       "      <td>After casting an Elemental Skill, gain 1 Succe...</td>\n",
       "    </tr>\n",
       "  </tbody>\n",
       "</table>\n",
       "</div>"
      ],
      "text/plain": [
       "                         name      type  rarity  baseAttack  \\\n",
       "0  A Thousand Floating Dreams  Catalyst       5          44   \n",
       "1                   Akuoumaru  Claymore       4          42   \n",
       "2                Alley Hunter       Bow       4          41   \n",
       "3              Amber Catalyst  Catalyst       3          40   \n",
       "4            Amenoma Kageuchi     Sword       4          41   \n",
       "\n",
       "             subStat                                        passiveDesc  \n",
       "0  Elemental Mastery  Party members other than the equipping charact...  \n",
       "1                ATK  For every point of the entire party's combined...  \n",
       "2             Attack  Every 4s a character is on the field, their AT...  \n",
       "3  Elemental Mastery  Normal Attack hits increase all Elemental DMG ...  \n",
       "4                ATK  After casting an Elemental Skill, gain 1 Succe...  "
      ]
     },
     "execution_count": 5,
     "metadata": {},
     "output_type": "execute_result"
    }
   ],
   "source": [
    "df_weapon.head(5)"
   ]
  }
 ],
 "metadata": {
  "kernelspec": {
   "display_name": "genshinML",
   "language": "python",
   "name": "python3"
  },
  "language_info": {
   "codemirror_mode": {
    "name": "ipython",
    "version": 3
   },
   "file_extension": ".py",
   "mimetype": "text/x-python",
   "name": "python",
   "nbconvert_exporter": "python",
   "pygments_lexer": "ipython3",
   "version": "3.12.8"
  }
 },
 "nbformat": 4,
 "nbformat_minor": 2
}
